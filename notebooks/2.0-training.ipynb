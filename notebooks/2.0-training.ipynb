{
 "cells": [
  {
   "cell_type": "markdown",
   "id": "4f3da31b-d591-49ee-96c0-303ff00c49d7",
   "metadata": {},
   "source": [
    "# Training a model T5-small"
   ]
  },
  {
   "cell_type": "markdown",
   "id": "6ef53394-dbeb-4c0c-a241-33b7a68d5e61",
   "metadata": {},
   "source": [
    "## Imports"
   ]
  },
  {
   "cell_type": "code",
   "execution_count": 1,
   "id": "9612dff3-dc37-4f87-b0c0-5dbc42a7ca07",
   "metadata": {
    "tags": []
   },
   "outputs": [],
   "source": [
    "import pandas as pd\n",
    "import numpy as np\n",
    "from datasets import load_metric\n",
    "from datasets import Dataset\n",
    "from transformers import (AutoTokenizer, DataCollatorForSeq2Seq, AutoModelForSeq2SeqLM, Seq2SeqTrainingArguments, Seq2SeqTrainer)\n",
    "from torch.utils.data import Dataset as D\n",
    "import pickle"
   ]
  },
  {
   "cell_type": "markdown",
   "id": "5b331fea-4a80-4281-a8f0-62f221992ff7",
   "metadata": {},
   "source": [
    "## Class MyDataset (I have problems with imports)"
   ]
  },
  {
   "cell_type": "code",
   "execution_count": 2,
   "id": "bbf72ffe-70e8-4bf0-b1ba-094b82b80877",
   "metadata": {
    "tags": []
   },
   "outputs": [],
   "source": [
    "class MyDataset(D):\n",
    "    def __init__(self, data_path):\n",
    "        self.raw_data = pd.read_csv(data_path, sep='\\t', index_col=0)\n",
    "        \n",
    "        data = pd.DataFrame()\n",
    "        data['toxic'] = pd.concat([self.raw_data[self.raw_data['ref_tox'] > self.raw_data['trn_tox']]['reference'], self.raw_data[self.raw_data['ref_tox'] < self.raw_data['trn_tox']]['translation']])\n",
    "        data['normal'] = pd.concat([self.raw_data[self.raw_data['ref_tox'] > self.raw_data['trn_tox']]['translation'], self.raw_data[self.raw_data['ref_tox'] < self.raw_data['trn_tox']]['reference']])\n",
    "        data['toxic_reduction'] = abs(self.raw_data['ref_tox'] - self.raw_data['trn_tox'])\n",
    "        self.data = data\n",
    "\n",
    "\n",
    "    def __len__(self):\n",
    "        return len(self.raw_data)\n",
    "\n",
    "    def __getitem__(self, idx):\n",
    "        return self.data.iloc[idx]"
   ]
  },
  {
   "cell_type": "code",
   "execution_count": 3,
   "id": "5fd797fc-a2ff-49c2-85bd-b5aae77e2cb7",
   "metadata": {},
   "outputs": [
    {
     "data": {
      "text/html": [
       "<div>\n",
       "<style scoped>\n",
       "    .dataframe tbody tr th:only-of-type {\n",
       "        vertical-align: middle;\n",
       "    }\n",
       "\n",
       "    .dataframe tbody tr th {\n",
       "        vertical-align: top;\n",
       "    }\n",
       "\n",
       "    .dataframe thead th {\n",
       "        text-align: right;\n",
       "    }\n",
       "</style>\n",
       "<table border=\"1\" class=\"dataframe\">\n",
       "  <thead>\n",
       "    <tr style=\"text-align: right;\">\n",
       "      <th></th>\n",
       "      <th>toxic</th>\n",
       "      <th>normal</th>\n",
       "      <th>toxic_reduction</th>\n",
       "    </tr>\n",
       "  </thead>\n",
       "  <tbody>\n",
       "    <tr>\n",
       "      <th>5</th>\n",
       "      <td>[gon, na, child, genetic, disorder, gon, na, d...</td>\n",
       "      <td>[going, breed, kid, genetic, disorder, make, die]</td>\n",
       "      <td>0.915109</td>\n",
       "    </tr>\n",
       "    <tr>\n",
       "      <th>6</th>\n",
       "      <td>[laughing, u, kick, as]</td>\n",
       "      <td>[laughing, u, show]</td>\n",
       "      <td>0.999361</td>\n",
       "    </tr>\n",
       "    <tr>\n",
       "      <th>7</th>\n",
       "      <td>[maine, short, black, people, back]</td>\n",
       "      <td>[much, black, maine]</td>\n",
       "      <td>0.814971</td>\n",
       "    </tr>\n",
       "    <tr>\n",
       "      <th>11</th>\n",
       "      <td>[spirit, cursed, walking, back, road, waterway...</td>\n",
       "      <td>[soul, cursed, guard, path, say, encounter, un...</td>\n",
       "      <td>0.698517</td>\n",
       "    </tr>\n",
       "    <tr>\n",
       "      <th>13</th>\n",
       "      <td>[come, cal, leave, shit, alone]</td>\n",
       "      <td>[come, cal, put]</td>\n",
       "      <td>0.999357</td>\n",
       "    </tr>\n",
       "  </tbody>\n",
       "</table>\n",
       "</div>"
      ],
      "text/plain": [
       "                                                toxic  \\\n",
       "5   [gon, na, child, genetic, disorder, gon, na, d...   \n",
       "6                             [laughing, u, kick, as]   \n",
       "7                 [maine, short, black, people, back]   \n",
       "11  [spirit, cursed, walking, back, road, waterway...   \n",
       "13                    [come, cal, leave, shit, alone]   \n",
       "\n",
       "                                               normal  toxic_reduction  \n",
       "5   [going, breed, kid, genetic, disorder, make, die]         0.915109  \n",
       "6                                 [laughing, u, show]         0.999361  \n",
       "7                                [much, black, maine]         0.814971  \n",
       "11  [soul, cursed, guard, path, say, encounter, un...         0.698517  \n",
       "13                                   [come, cal, put]         0.999357  "
      ]
     },
     "execution_count": 3,
     "metadata": {},
     "output_type": "execute_result"
    }
   ],
   "source": [
    "df = pickle.load(open('../data/interim/text_dataset.pkl', 'rb')).data\n",
    "df.head()"
   ]
  },
  {
   "cell_type": "code",
   "execution_count": 4,
   "id": "bbbe8836-1e9a-429d-abe4-316bba75c406",
   "metadata": {
    "tags": []
   },
   "outputs": [
    {
     "name": "stdout",
     "output_type": "stream",
     "text": [
      "<class 'pandas.core.frame.DataFrame'>\n",
      "Int64Index: 577777 entries, 5 to 577776\n",
      "Data columns (total 2 columns):\n",
      " #   Column  Non-Null Count   Dtype \n",
      "---  ------  --------------   ----- \n",
      " 0   toxic   577777 non-null  object\n",
      " 1   normal  577777 non-null  object\n",
      "dtypes: object(2)\n",
      "memory usage: 13.2+ MB\n"
     ]
    }
   ],
   "source": [
    "df = df[[\"toxic\", \"normal\"]]\n",
    "df.info()"
   ]
  },
  {
   "cell_type": "code",
   "execution_count": 5,
   "id": "15ff5bcd-5edd-4d7a-a9d9-6de6b0973582",
   "metadata": {
    "tags": []
   },
   "outputs": [],
   "source": [
    "dataset = Dataset.from_pandas(df[:1000]).train_test_split(test_size=0.2) # 1000 for simplicity of checking"
   ]
  },
  {
   "cell_type": "code",
   "execution_count": 6,
   "id": "b86743c8-ec76-4791-b084-00561648390e",
   "metadata": {
    "tags": []
   },
   "outputs": [
    {
     "data": {
      "application/vnd.jupyter.widget-view+json": {
       "model_id": "0ee0572e72654f38b3a78cf7cc00880b",
       "version_major": 2,
       "version_minor": 0
      },
      "text/plain": [
       "Map:   0%|          | 0/800 [00:00<?, ? examples/s]"
      ]
     },
     "metadata": {},
     "output_type": "display_data"
    },
    {
     "data": {
      "application/vnd.jupyter.widget-view+json": {
       "model_id": "842ac84d6bdd4e31913d88617da59ace",
       "version_major": 2,
       "version_minor": 0
      },
      "text/plain": [
       "Map:   0%|          | 0/200 [00:00<?, ? examples/s]"
      ]
     },
     "metadata": {},
     "output_type": "display_data"
    }
   ],
   "source": [
    "checkpoint = \"t5-small\"\n",
    "tokenizer = AutoTokenizer.from_pretrained(checkpoint)\n",
    "\n",
    "def preprocess_function(data):\n",
    "    inputs = [l for l in data[\"toxic\"]]\n",
    "    targets = [l for l in data[\"normal\"]]\n",
    "    model_inputs = tokenizer(inputs, text_target=targets, max_length=128, truncation=True, is_split_into_words=True)\n",
    "    return model_inputs\n",
    "\n",
    "tokenized_dataset = dataset.map(preprocess_function, batched=True)\n",
    "model = AutoModelForSeq2SeqLM.from_pretrained(checkpoint)\n",
    "data_collator = DataCollatorForSeq2Seq(tokenizer=tokenizer, model=checkpoint)"
   ]
  },
  {
   "cell_type": "code",
   "execution_count": 7,
   "id": "ee08dc65-9aed-4d09-9feb-382da00d5bd3",
   "metadata": {
    "tags": []
   },
   "outputs": [
    {
     "name": "stderr",
     "output_type": "stream",
     "text": [
      "You're using a T5TokenizerFast tokenizer. Please note that with a fast tokenizer, using the `__call__` method is faster than using a method to encode the text followed by a call to the `pad` method to get a padded encoding.\n"
     ]
    },
    {
     "data": {
      "text/html": [
       "\n",
       "    <div>\n",
       "      \n",
       "      <progress value='70' max='70' style='width:300px; height:20px; vertical-align: middle;'></progress>\n",
       "      [70/70 16:36, Epoch 10/10]\n",
       "    </div>\n",
       "    <table border=\"1\" class=\"dataframe\">\n",
       "  <thead>\n",
       " <tr style=\"text-align: left;\">\n",
       "      <th>Epoch</th>\n",
       "      <th>Training Loss</th>\n",
       "      <th>Validation Loss</th>\n",
       "    </tr>\n",
       "  </thead>\n",
       "  <tbody>\n",
       "    <tr>\n",
       "      <td>1</td>\n",
       "      <td>No log</td>\n",
       "      <td>4.253178</td>\n",
       "    </tr>\n",
       "    <tr>\n",
       "      <td>2</td>\n",
       "      <td>No log</td>\n",
       "      <td>4.143383</td>\n",
       "    </tr>\n",
       "    <tr>\n",
       "      <td>3</td>\n",
       "      <td>No log</td>\n",
       "      <td>4.066164</td>\n",
       "    </tr>\n",
       "    <tr>\n",
       "      <td>4</td>\n",
       "      <td>No log</td>\n",
       "      <td>4.007196</td>\n",
       "    </tr>\n",
       "    <tr>\n",
       "      <td>5</td>\n",
       "      <td>No log</td>\n",
       "      <td>3.964003</td>\n",
       "    </tr>\n",
       "    <tr>\n",
       "      <td>6</td>\n",
       "      <td>No log</td>\n",
       "      <td>3.930886</td>\n",
       "    </tr>\n",
       "    <tr>\n",
       "      <td>7</td>\n",
       "      <td>No log</td>\n",
       "      <td>3.906989</td>\n",
       "    </tr>\n",
       "    <tr>\n",
       "      <td>8</td>\n",
       "      <td>No log</td>\n",
       "      <td>3.890918</td>\n",
       "    </tr>\n",
       "    <tr>\n",
       "      <td>9</td>\n",
       "      <td>No log</td>\n",
       "      <td>3.881775</td>\n",
       "    </tr>\n",
       "    <tr>\n",
       "      <td>10</td>\n",
       "      <td>No log</td>\n",
       "      <td>3.878522</td>\n",
       "    </tr>\n",
       "  </tbody>\n",
       "</table><p>"
      ],
      "text/plain": [
       "<IPython.core.display.HTML object>"
      ]
     },
     "metadata": {},
     "output_type": "display_data"
    },
    {
     "data": {
      "text/plain": [
       "TrainOutput(global_step=70, training_loss=4.426967075892857, metrics={'train_runtime': 1006.322, 'train_samples_per_second': 7.95, 'train_steps_per_second': 0.07, 'total_flos': 60996858150912.0, 'train_loss': 4.426967075892857, 'epoch': 10.0})"
      ]
     },
     "execution_count": 7,
     "metadata": {},
     "output_type": "execute_result"
    }
   ],
   "source": [
    "folder = '../models/T5-small' \n",
    "\n",
    "training_args = Seq2SeqTrainingArguments(\n",
    "    output_dir=folder,\n",
    "    overwrite_output_dir=True,\n",
    "    evaluation_strategy=\"epoch\",\n",
    "    learning_rate=2e-5,\n",
    "    per_device_train_batch_size=128,\n",
    "    per_device_eval_batch_size=128,\n",
    "    save_steps=10,\n",
    "    save_total_limit=3,\n",
    "    num_train_epochs=10,\n",
    "    predict_with_generate=True,\n",
    "    generation_max_length = 133,\n",
    "    weight_decay=1e-6,\n",
    ")\n",
    "\n",
    "\n",
    "trainer = Seq2SeqTrainer(\n",
    "    model=model,\n",
    "    args=training_args,\n",
    "    train_dataset=tokenized_dataset['train'],\n",
    "    eval_dataset=tokenized_dataset['test'],\n",
    "    tokenizer=tokenizer,\n",
    "    data_collator=data_collator,\n",
    ")\n",
    "\n",
    "trainer.train()"
   ]
  },
  {
   "cell_type": "code",
   "execution_count": 8,
   "id": "fe3bb728-4763-48cf-90df-5674888103a7",
   "metadata": {
    "tags": []
   },
   "outputs": [],
   "source": [
    "trainer.save_model('../models/saved')"
   ]
  },
  {
   "cell_type": "markdown",
   "id": "c418ef8b-fdc3-4905-af58-4adfd7d39ad1",
   "metadata": {},
   "source": [
    "### Load checkpoint and generate detoxified sentence"
   ]
  },
  {
   "cell_type": "code",
   "execution_count": 9,
   "id": "a7db7ede-e455-4d74-ac90-571811dfd821",
   "metadata": {
    "tags": []
   },
   "outputs": [],
   "source": [
    "test_model = AutoModelForSeq2SeqLM.from_pretrained(\"../models/saved/\")"
   ]
  },
  {
   "cell_type": "code",
   "execution_count": 10,
   "id": "126b9c70-b5f5-4fb3-915f-0dd9771e7f31",
   "metadata": {},
   "outputs": [],
   "source": [
    "input_ids = tokenizer(\"Now you're getting nasty.\".lower().split(), max_length=128, truncation=True, is_split_into_words=True, return_tensors=\"pt\").input_ids\n",
    "outputs = test_model.generate(input_ids, max_new_tokens=133)"
   ]
  },
  {
   "cell_type": "code",
   "execution_count": 11,
   "id": "fa5f7420-0be6-4a3c-9635-4b681bd80f6b",
   "metadata": {
    "tags": []
   },
   "outputs": [
    {
     "name": "stdout",
     "output_type": "stream",
     "text": [
      "Jetzt erhitzt man sich.\n"
     ]
    }
   ],
   "source": [
    "print(tokenizer.decode(outputs[0], skip_special_tokens=True))"
   ]
  },
  {
   "cell_type": "markdown",
   "id": "abd3e28d-0984-4316-9b78-28a8e94695af",
   "metadata": {},
   "source": [
    "### Haha, idk, but on my machine it translates the sentence to another language :)"
   ]
  }
 ],
 "metadata": {
  "kernelspec": {
   "display_name": "Python 3 (ipykernel)",
   "language": "python",
   "name": "python3"
  },
  "language_info": {
   "codemirror_mode": {
    "name": "ipython",
    "version": 3
   },
   "file_extension": ".py",
   "mimetype": "text/x-python",
   "name": "python",
   "nbconvert_exporter": "python",
   "pygments_lexer": "ipython3",
   "version": "3.11.4"
  }
 },
 "nbformat": 4,
 "nbformat_minor": 5
}
